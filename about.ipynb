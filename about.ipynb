{
  "cells": [
    {
      "cell_type": "raw",
      "metadata": {},
      "source": [
        "---\n",
        "title: \"\"\n",
        "image: profile.jpg\n",
        "about:\n",
        "  template: jolla\n",
        "  links:\n",
        "    - icon: github\n",
        "      text: Github\n",
        "      href: https://github.com/greg-dubrow\n",
        "    - icon: linkedin\n",
        "      text: LinkedIn\n",
        "      href: https://linkedin.com/in/dubrowg/\n",
        "    - icon: twitter\n",
        "      text: Twitter\n",
        "      href: https://twitter.com/greg_dubrow\n",
        "---"
      ],
      "id": "238840fe"
    },
    {
      "cell_type": "markdown",
      "metadata": {},
      "source": [
        "```{css, echo = FALSE}\n",
        ".justify {\n",
        "  text-align: justify !important\n",
        "}\n",
        "```\n",
        "\n",
        "\n",
        "::: {.justify}\n",
        "I'm a data analyst/data scientist living in København Denmark, with experitise in higher education systems, policy, undergraduate admissions & enrollment management, and student success.\n",
        "\n",
        "I work in r for everything from data import & cleaning, to analysis, modeling & visualization. I have also used SAS and excel and have working knowledge of SQL and a passing familiarity with Tableau.\n",
        "\n",
        "I was born in Denmark and grew up in the US. After many years in San Francisco I lived in Lyon France from May to December 2022 , working as an ESL instructor after earning a [CELTA](https://www.cambridgeenglish.org/teaching-english/teaching-qualifications/celta/) via the [ELT Hub](https://www.theelthub.com/).\n",
        "\n",
        "In this space I'll mostly be posting code-throughs and results from my personal data projects; music, football (the soccer kind), [#tidytuesday](https://github.com/rfordatascience/tidytuesday) data projects and other work. All views expressed here are my own.\n",
        "\n",
        "Over the years I've [made some music](https://www.discogs.com/artist/1980511-Greg-Dubrow) with [Gosta Berling](https://gostaberling.bandcamp.com/), [Slowness](https://slowness.bandcamp.com/), [Big Still](https://bigstill.bandcamp.com/) and [Idle Wilds](https://www.youtube.com/watch?v=86rp45bp93g). My photography is at [Flickr](https://www.flickr.com/photos/dannebrog/).\n",
        "\n",
        ":::"
      ],
      "id": "7975e498"
    }
  ],
  "metadata": {
    "kernelspec": {
      "display_name": "Python 3",
      "language": "python",
      "name": "python3"
    }
  },
  "nbformat": 4,
  "nbformat_minor": 5
}